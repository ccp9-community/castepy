{
 "metadata": {
  "name": ""
 },
 "nbformat": 3,
 "nbformat_minor": 0,
 "worksheets": [
  {
   "cells": [
    {
     "cell_type": "markdown",
     "metadata": {},
     "source": [
      "Simple convergence test geneation\n",
      "================================="
     ]
    },
    {
     "cell_type": "markdown",
     "metadata": {},
     "source": [
      "First, import all the bits we need of the `castepy` package:"
     ]
    },
    {
     "cell_type": "code",
     "collapsed": false,
     "input": [
      "from castepy.input import Parameters\n",
      "from castepy.input import Cell\n",
      "from castepy.templates.submission_scripts import SubmissionScript\n",
      "from castepy import settings"
     ],
     "language": "python",
     "metadata": {},
     "outputs": [],
     "prompt_number": 7
    },
    {
     "cell_type": "markdown",
     "metadata": {},
     "source": [
      "Next, grab our template ethanol param and cell files and read them into a `Parameters` and `Cell` object"
     ]
    },
    {
     "cell_type": "code",
     "collapsed": false,
     "input": [
      "p = Parameters(\"../test_data/ethanol/ethanol.param\")\n",
      "c = Cell(\"../test_data/ethanol/ethanol.cell\")"
     ],
     "language": "python",
     "metadata": {},
     "outputs": [],
     "prompt_number": 8
    },
    {
     "cell_type": "markdown",
     "metadata": {},
     "source": [
      "Let's look at the contents of the `Parameters` object"
     ]
    },
    {
     "cell_type": "code",
     "collapsed": false,
     "input": [
      "print p"
     ],
     "language": "python",
     "metadata": {},
     "outputs": [
      {
       "output_type": "stream",
       "stream": "stdout",
       "text": [
        "task: magres\n",
        "opt_strategy: speed\n",
        "magres_task: nmr\n",
        "popn_calculate: true\n",
        "spin_polarized: false\n",
        "xc_functional: PBE\n",
        "cut_off_energy: 90 ry\n",
        "!fix_occupancy = true\n"
       ]
      }
     ],
     "prompt_number": 13
    },
    {
     "cell_type": "markdown",
     "metadata": {},
     "source": [
      "It understands comments, includes units for numerical values and can check that the parameter keyword you're setting exists.\n",
      "\n",
      "Next, since we're probably doing this on a desktop, set the cluster environment we're going to be running on. This lets the SubmissionScript object know which submission script to use and how to calculate memory usage, cores needed, etc."
     ]
    },
    {
     "cell_type": "code",
     "collapsed": false,
     "input": [
      "settings.PLATFORM = \"ironman\""
     ],
     "language": "python",
     "metadata": {},
     "outputs": [],
     "prompt_number": 9
    },
    {
     "cell_type": "markdown",
     "metadata": {},
     "source": [
      "Finally, iterate over the cut-off energies we want to test, update the parameters and write it out"
     ]
    },
    {
     "cell_type": "code",
     "collapsed": false,
     "input": [
      "path_format = \"test/ethanol-{}ry\"\n",
      "\n",
      "for cut_off_energy in range(30, 100, 10):\n",
      "    path = path_format.format(cut_off_energy)\n",
      "    \n",
      "    # Just set the numerical value, the units of \"ry\" will be kept\n",
      "    p.cut_off_energy = cut_off_energy\n",
      "    \n",
      "    # Open files to write out to\n",
      "    f_cell = open(path + \".cell\", \"w+\")\n",
      "    f_param = open(path + \".param\", \"w+\")\n",
      "    f_sh = open(path + \".sh\", \"w+\")\n",
      "    \n",
      "    # Generate our submission script\n",
      "    sh = SubmissionScript(\"shortpara.q\", 8, \"castep.mpi\", \"ethanol-{}ry\".format(cut_off_energy))\n",
      "    \n",
      "    # Write them to file\n",
      "    print >>f_cell, c\n",
      "    print >>f_param, p\n",
      "    print >>f_sh, sh\n"
     ],
     "language": "python",
     "metadata": {},
     "outputs": [],
     "prompt_number": 14
    },
    {
     "cell_type": "markdown",
     "metadata": {},
     "source": [
      "Having a look at what was generated"
     ]
    },
    {
     "cell_type": "code",
     "collapsed": false,
     "input": [
      "!echo Submission script\n",
      "!echo -----------------\n",
      "!cat test/ethanol-30ry.sh\n",
      "!echo Cell file\n",
      "!echo ---------\n",
      "!cat test/ethanol-30ry.cell\n",
      "!echo Param file\n",
      "!echo ----------\n",
      "!cat test/ethanol-30ry.param"
     ],
     "language": "python",
     "metadata": {},
     "outputs": [
      {
       "output_type": "stream",
       "stream": "stdout",
       "text": [
        "Submission script\r\n"
       ]
      },
      {
       "output_type": "stream",
       "stream": "stdout",
       "text": [
        "-----------------\r\n"
       ]
      },
      {
       "output_type": "stream",
       "stream": "stdout",
       "text": [
        "#!/bin/tcsh\r\n",
        "#$ -cwd\r\n",
        "#$ -j y\r\n",
        "#$ -pe orte 8\r\n",
        "#$ -V\r\n",
        "#$ -l qname=shortpara.q\r\n",
        "#$ -l h_vmem=23.000000G\r\n",
        "\r\n",
        "module load intel/ics-2012\r\n",
        "module load openmpi-x86_64\r\n",
        "\r\n",
        "source /opt/gridengine/default/common/settings.csh\r\n",
        "\r\n",
        "echo Job using the following number of cores: $NSLOTS\r\n",
        "echo Job starting on: `date`\r\n",
        "\r\n",
        "set MPIRUN   = mpirun\r\n",
        "set MPIFLAGS = \"--mca btl self,openib,sm,tcp\"\r\n",
        "\r\n",
        "$MPIRUN $MPIFLAGS -np 8 castep.mpi ethanol-30ry\r\n",
        "\r\n",
        "echo Job ended at: `date`\r\n",
        "\r\n",
        "\r\n"
       ]
      },
      {
       "output_type": "stream",
       "stream": "stdout",
       "text": [
        "Cell file\r\n"
       ]
      },
      {
       "output_type": "stream",
       "stream": "stdout",
       "text": [
        "---------\r\n"
       ]
      },
      {
       "output_type": "stream",
       "stream": "stdout",
       "text": [
        "%block KPOINTS_LIST\r\n",
        "0.25 0.25 0.25 1.0\r\n",
        "%endblock KPOINTS_LIST\r\n",
        "\r\n",
        "%block POSITIONS_ABS\r\n",
        "ang\r\n",
        "H 3.980599 4.178342 3.295079\r\n",
        "H 5.033394 3.430430 4.504759\r\n",
        "H 5.719070 4.552257 3.315353\r\n",
        "H 3.720235 5.329505 5.509909\r\n",
        "H 4.412171 6.433572 4.317001\r\n",
        "H 5.911611 5.032284 6.242202\r\n",
        "C 4.846940 4.350631 3.941136\r\n",
        "C 4.603025 5.518738 4.882532\r\n",
        "O 5.746254 5.812705 5.687100\r\n",
        "%endblock POSITIONS_ABS\r\n",
        "\r\n",
        "%block LATTICE_CART\r\n",
        "ang\r\n",
        "6.000000 0.000000 0.000000\r\n",
        "0.000000 6.000000 0.000000\r\n",
        "0.000000 0.000000 6.000000\r\n",
        "%endblock LATTICE_CART\r\n",
        "\r\n"
       ]
      },
      {
       "output_type": "stream",
       "stream": "stdout",
       "text": [
        "Param file\r\n"
       ]
      },
      {
       "output_type": "stream",
       "stream": "stdout",
       "text": [
        "----------\r\n"
       ]
      },
      {
       "output_type": "stream",
       "stream": "stdout",
       "text": [
        "task: magres\r\n",
        "opt_strategy: speed\r\n",
        "magres_task: nmr\r\n",
        "popn_calculate: true\r\n",
        "spin_polarized: false\r\n",
        "xc_functional: PBE\r\n",
        "cut_off_energy: 30 ry\r\n",
        "!fix_occupancy = true\r\n"
       ]
      }
     ],
     "prompt_number": 5
    }
   ],
   "metadata": {}
  }
 ]
}