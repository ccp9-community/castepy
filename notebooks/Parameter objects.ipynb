{
 "metadata": {
  "name": ""
 },
 "nbformat": 3,
 "nbformat_minor": 0,
 "worksheets": [
  {
   "cells": [
    {
     "cell_type": "markdown",
     "metadata": {},
     "source": [
      "Parameter objects\n",
      "================="
     ]
    },
    {
     "cell_type": "markdown",
     "metadata": {},
     "source": [
      "First, import the `Parameters` class from `castepy.input`, read a sample `.param` file in and print it out for inspection"
     ]
    },
    {
     "cell_type": "code",
     "collapsed": false,
     "input": [
      "from castepy.input import Parameters\n",
      "\n",
      "p = Parameters(\"../test_data/ethanol/ethanol.param\")\n",
      "\n",
      "print p"
     ],
     "language": "python",
     "metadata": {},
     "outputs": [
      {
       "output_type": "stream",
       "stream": "stdout",
       "text": [
        "task: magres\n",
        "opt_strategy: speed\n",
        "magres_task: nmr\n",
        "popn_calculate: true\n",
        "spin_polarized: false\n",
        "xc_functional: PBE\n",
        "cut_off_energy: 80 ry\n",
        "!fix_occupancy = true\n"
       ]
      }
     ],
     "prompt_number": 13
    },
    {
     "cell_type": "markdown",
     "metadata": {},
     "source": [
      "Let's have a look at the `cut_off_energy` parameter:"
     ]
    },
    {
     "cell_type": "code",
     "collapsed": false,
     "input": [
      "print p.cut_off_energy"
     ],
     "language": "python",
     "metadata": {},
     "outputs": [
      {
       "output_type": "stream",
       "stream": "stdout",
       "text": [
        "[60, 'ry']\n"
       ]
      }
     ],
     "prompt_number": 16
    },
    {
     "cell_type": "markdown",
     "metadata": {},
     "source": [
      "You can see that it's represented as a list of values, allowing the numerical value to also have units.\n",
      "\n",
      "If we directly assign a number to `cut_off_energy`, it will leave the units and only change the numerical value"
     ]
    },
    {
     "cell_type": "code",
     "collapsed": false,
     "input": [
      "p.cut_off_energy = 60\n",
      "print p.cut_off_energy"
     ],
     "language": "python",
     "metadata": {},
     "outputs": [
      {
       "output_type": "stream",
       "stream": "stdout",
       "text": [
        "[60, 'ry']\n"
       ]
      }
     ],
     "prompt_number": 17
    },
    {
     "cell_type": "markdown",
     "metadata": {},
     "source": [
      "If you also want to change the units at the same time, you can assign a string like"
     ]
    },
    {
     "cell_type": "code",
     "collapsed": false,
     "input": [
      "p.cut_off_energy = \"600 eV\"\n",
      "\n",
      "print p.cut_off_energy"
     ],
     "language": "python",
     "metadata": {},
     "outputs": [
      {
       "output_type": "stream",
       "stream": "stdout",
       "text": [
        "[600, 'eV']\n"
       ]
      }
     ],
     "prompt_number": 18
    },
    {
     "cell_type": "markdown",
     "metadata": {},
     "source": [
      "We can also set other parameters"
     ]
    },
    {
     "cell_type": "code",
     "collapsed": false,
     "input": [
      "p.max_scf_cycles = 256\n",
      "print p.max_scf_cycles\n",
      "\n",
      "p.magres_task = \"jcoupling\"\n",
      "print p.magres_task"
     ],
     "language": "python",
     "metadata": {},
     "outputs": [
      {
       "output_type": "stream",
       "stream": "stdout",
       "text": [
        "[256]\n",
        "['jcoupling']\n"
       ]
      }
     ],
     "prompt_number": 19
    },
    {
     "cell_type": "markdown",
     "metadata": {},
     "source": [
      "and all of these changes are reflected in the string representation of the `Parameters` object"
     ]
    },
    {
     "cell_type": "code",
     "collapsed": false,
     "input": [
      "print p"
     ],
     "language": "python",
     "metadata": {},
     "outputs": [
      {
       "output_type": "stream",
       "stream": "stdout",
       "text": [
        "task: magres\n",
        "opt_strategy: speed\n",
        "magres_task: jcoupling\n",
        "popn_calculate: true\n",
        "max_scf_cycles: 256\n",
        "spin_polarized: false\n",
        "xc_functional: PBE\n",
        "cut_off_energy: 600 eV\n",
        "!fix_occupancy = true\n"
       ]
      }
     ],
     "prompt_number": 20
    },
    {
     "cell_type": "markdown",
     "metadata": {},
     "source": [
      "The `Parameters` object can also recognise when you're trying to assign a parameter that Castep won't recognise"
     ]
    },
    {
     "cell_type": "code",
     "collapsed": false,
     "input": [
      "p.bad_param = \"this will raise an exception\""
     ],
     "language": "python",
     "metadata": {},
     "outputs": [
      {
       "ename": "UnrecognisedParameter",
       "evalue": "bad_param",
       "output_type": "pyerr",
       "traceback": [
        "\u001b[1;31m---------------------------------------------------------------------------\u001b[0m\n\u001b[1;31mUnrecognisedParameter\u001b[0m                     Traceback (most recent call last)",
        "\u001b[1;32m<ipython-input-21-633779444c32>\u001b[0m in \u001b[0;36m<module>\u001b[1;34m()\u001b[0m\n\u001b[1;32m----> 1\u001b[1;33m \u001b[0mp\u001b[0m\u001b[1;33m.\u001b[0m\u001b[0mbad_param\u001b[0m \u001b[1;33m=\u001b[0m \u001b[1;34m\"this will raise an exception\"\u001b[0m\u001b[1;33m\u001b[0m\u001b[0m\n\u001b[0m",
        "\u001b[1;32m/usr/local/lib/python2.7/dist-packages/castepy/input/parameters.pyc\u001b[0m in \u001b[0;36m__setattr__\u001b[1;34m(self, n, v)\u001b[0m\n\u001b[0;32m     76\u001b[0m     \u001b[1;32melse\u001b[0m\u001b[1;33m:\u001b[0m\u001b[1;33m\u001b[0m\u001b[0m\n\u001b[0;32m     77\u001b[0m       \u001b[1;32mif\u001b[0m \u001b[0mn\u001b[0m \u001b[1;32mnot\u001b[0m \u001b[1;32min\u001b[0m \u001b[0mvalid_params\u001b[0m\u001b[1;33m:\u001b[0m\u001b[1;33m\u001b[0m\u001b[0m\n\u001b[1;32m---> 78\u001b[1;33m         \u001b[1;32mraise\u001b[0m \u001b[0mUnrecognisedParameter\u001b[0m\u001b[1;33m(\u001b[0m\u001b[0mn\u001b[0m\u001b[1;33m)\u001b[0m\u001b[1;33m\u001b[0m\u001b[0m\n\u001b[0m\u001b[0;32m     79\u001b[0m       \u001b[1;32melse\u001b[0m\u001b[1;33m:\u001b[0m\u001b[1;33m\u001b[0m\u001b[0m\n\u001b[0;32m     80\u001b[0m         \u001b[1;32mif\u001b[0m \u001b[0mn\u001b[0m \u001b[1;32min\u001b[0m \u001b[0mself\u001b[0m\u001b[1;33m.\u001b[0m\u001b[0mparams\u001b[0m \u001b[1;32mand\u001b[0m \u001b[0mtype\u001b[0m\u001b[1;33m(\u001b[0m\u001b[0mv\u001b[0m\u001b[1;33m)\u001b[0m \u001b[1;32min\u001b[0m \u001b[1;33m[\u001b[0m\u001b[0mint\u001b[0m\u001b[1;33m,\u001b[0m \u001b[0mfloat\u001b[0m\u001b[1;33m]\u001b[0m\u001b[1;33m:\u001b[0m\u001b[1;33m\u001b[0m\u001b[0m\n",
        "\u001b[1;31mUnrecognisedParameter\u001b[0m: bad_param"
       ]
      }
     ],
     "prompt_number": 21
    }
   ],
   "metadata": {}
  }
 ]
}